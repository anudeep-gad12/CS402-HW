{
 "cells": [
  {
   "cell_type": "code",
   "execution_count": 1,
   "id": "bbb13661",
   "metadata": {},
   "outputs": [],
   "source": [
    "import pandas as pd\n",
    "from matplotlib import pyplot as plt\n",
    "\n",
    "df= pd.read_fwf('spice.din.txt')"
   ]
  },
  {
   "cell_type": "code",
   "execution_count": 2,
   "id": "b771e201",
   "metadata": {},
   "outputs": [
    {
     "data": {
      "text/plain": [
       "Index(['type_address'], dtype='object')"
      ]
     },
     "execution_count": 2,
     "metadata": {},
     "output_type": "execute_result"
    }
   ],
   "source": [
    "df.columns\n"
   ]
  },
  {
   "cell_type": "code",
   "execution_count": 3,
   "id": "d7468c75",
   "metadata": {},
   "outputs": [],
   "source": [
    "split_columns=df['type_address'].str.split(\" \",n=1,expand=True)\n",
    "split_columns=split_columns.rename(columns={0:'type',1:'address'})"
   ]
  },
  {
   "cell_type": "code",
   "execution_count": 4,
   "id": "d71f262c",
   "metadata": {},
   "outputs": [],
   "source": [
    "split_columns['address']=split_columns['address'].apply(int,base=16)"
   ]
  },
  {
   "cell_type": "code",
   "execution_count": 5,
   "id": "d3be4228",
   "metadata": {},
   "outputs": [
    {
     "data": {
      "text/html": [
       "<div>\n",
       "<style scoped>\n",
       "    .dataframe tbody tr th:only-of-type {\n",
       "        vertical-align: middle;\n",
       "    }\n",
       "\n",
       "    .dataframe tbody tr th {\n",
       "        vertical-align: top;\n",
       "    }\n",
       "\n",
       "    .dataframe thead th {\n",
       "        text-align: right;\n",
       "    }\n",
       "</style>\n",
       "<table border=\"1\" class=\"dataframe\">\n",
       "  <thead>\n",
       "    <tr style=\"text-align: right;\">\n",
       "      <th></th>\n",
       "      <th>type</th>\n",
       "      <th>address</th>\n",
       "    </tr>\n",
       "  </thead>\n",
       "  <tbody>\n",
       "    <tr>\n",
       "      <th>0</th>\n",
       "      <td>2</td>\n",
       "      <td>4242548</td>\n",
       "    </tr>\n",
       "    <tr>\n",
       "      <th>1</th>\n",
       "      <td>0</td>\n",
       "      <td>2147400392</td>\n",
       "    </tr>\n",
       "    <tr>\n",
       "      <th>2</th>\n",
       "      <td>2</td>\n",
       "      <td>4242552</td>\n",
       "    </tr>\n",
       "    <tr>\n",
       "      <th>3</th>\n",
       "      <td>2</td>\n",
       "      <td>4242556</td>\n",
       "    </tr>\n",
       "    <tr>\n",
       "      <th>4</th>\n",
       "      <td>0</td>\n",
       "      <td>268500976</td>\n",
       "    </tr>\n",
       "    <tr>\n",
       "      <th>...</th>\n",
       "      <td>...</td>\n",
       "      <td>...</td>\n",
       "    </tr>\n",
       "    <tr>\n",
       "      <th>999996</th>\n",
       "      <td>0</td>\n",
       "      <td>2147400040</td>\n",
       "    </tr>\n",
       "    <tr>\n",
       "      <th>999997</th>\n",
       "      <td>2</td>\n",
       "      <td>4226404</td>\n",
       "    </tr>\n",
       "    <tr>\n",
       "      <th>999998</th>\n",
       "      <td>2</td>\n",
       "      <td>4226408</td>\n",
       "    </tr>\n",
       "    <tr>\n",
       "      <th>999999</th>\n",
       "      <td>2</td>\n",
       "      <td>4226412</td>\n",
       "    </tr>\n",
       "    <tr>\n",
       "      <th>1000000</th>\n",
       "      <td>2</td>\n",
       "      <td>4226416</td>\n",
       "    </tr>\n",
       "  </tbody>\n",
       "</table>\n",
       "<p>1000001 rows × 2 columns</p>\n",
       "</div>"
      ],
      "text/plain": [
       "        type     address\n",
       "0          2     4242548\n",
       "1          0  2147400392\n",
       "2          2     4242552\n",
       "3          2     4242556\n",
       "4          0   268500976\n",
       "...      ...         ...\n",
       "999996     0  2147400040\n",
       "999997     2     4226404\n",
       "999998     2     4226408\n",
       "999999     2     4226412\n",
       "1000000    2     4226416\n",
       "\n",
       "[1000001 rows x 2 columns]"
      ]
     },
     "execution_count": 5,
     "metadata": {},
     "output_type": "execute_result"
    }
   ],
   "source": [
    "split_columns"
   ]
  },
  {
   "cell_type": "code",
   "execution_count": 6,
   "id": "a005cb61",
   "metadata": {},
   "outputs": [
    {
     "data": {
      "text/html": [
       "<div>\n",
       "<style scoped>\n",
       "    .dataframe tbody tr th:only-of-type {\n",
       "        vertical-align: middle;\n",
       "    }\n",
       "\n",
       "    .dataframe tbody tr th {\n",
       "        vertical-align: top;\n",
       "    }\n",
       "\n",
       "    .dataframe thead th {\n",
       "        text-align: right;\n",
       "    }\n",
       "</style>\n",
       "<table border=\"1\" class=\"dataframe\">\n",
       "  <thead>\n",
       "    <tr style=\"text-align: right;\">\n",
       "      <th></th>\n",
       "      <th>type</th>\n",
       "      <th>address</th>\n",
       "    </tr>\n",
       "  </thead>\n",
       "  <tbody>\n",
       "    <tr>\n",
       "      <th>237199</th>\n",
       "      <td>2</td>\n",
       "      <td>4195404</td>\n",
       "    </tr>\n",
       "    <tr>\n",
       "      <th>237200</th>\n",
       "      <td>2</td>\n",
       "      <td>4195408</td>\n",
       "    </tr>\n",
       "    <tr>\n",
       "      <th>237202</th>\n",
       "      <td>2</td>\n",
       "      <td>4195412</td>\n",
       "    </tr>\n",
       "    <tr>\n",
       "      <th>237203</th>\n",
       "      <td>2</td>\n",
       "      <td>4195416</td>\n",
       "    </tr>\n",
       "    <tr>\n",
       "      <th>237204</th>\n",
       "      <td>2</td>\n",
       "      <td>4195420</td>\n",
       "    </tr>\n",
       "    <tr>\n",
       "      <th>...</th>\n",
       "      <td>...</td>\n",
       "      <td>...</td>\n",
       "    </tr>\n",
       "    <tr>\n",
       "      <th>237188</th>\n",
       "      <td>0</td>\n",
       "      <td>2147400436</td>\n",
       "    </tr>\n",
       "    <tr>\n",
       "      <th>703497</th>\n",
       "      <td>0</td>\n",
       "      <td>2147400436</td>\n",
       "    </tr>\n",
       "    <tr>\n",
       "      <th>237397</th>\n",
       "      <td>1</td>\n",
       "      <td>2147400436</td>\n",
       "    </tr>\n",
       "    <tr>\n",
       "      <th>237214</th>\n",
       "      <td>1</td>\n",
       "      <td>2147400540</td>\n",
       "    </tr>\n",
       "    <tr>\n",
       "      <th>237211</th>\n",
       "      <td>0</td>\n",
       "      <td>2147400540</td>\n",
       "    </tr>\n",
       "  </tbody>\n",
       "</table>\n",
       "<p>1000001 rows × 2 columns</p>\n",
       "</div>"
      ],
      "text/plain": [
       "       type     address\n",
       "237199    2     4195404\n",
       "237200    2     4195408\n",
       "237202    2     4195412\n",
       "237203    2     4195416\n",
       "237204    2     4195420\n",
       "...     ...         ...\n",
       "237188    0  2147400436\n",
       "703497    0  2147400436\n",
       "237397    1  2147400436\n",
       "237214    1  2147400540\n",
       "237211    0  2147400540\n",
       "\n",
       "[1000001 rows x 2 columns]"
      ]
     },
     "execution_count": 6,
     "metadata": {},
     "output_type": "execute_result"
    }
   ],
   "source": [
    "sorted_columns=split_columns.sort_values('address',ascending=True)\n",
    "sorted_columns"
   ]
  },
  {
   "cell_type": "code",
   "execution_count": 7,
   "id": "200cbbfe",
   "metadata": {},
   "outputs": [
    {
     "data": {
      "text/plain": [
       "237199       4195404\n",
       "237200       4195408\n",
       "237202       4195412\n",
       "237203       4195416\n",
       "237204       4195420\n",
       "             ...    \n",
       "237188    2147400436\n",
       "703497    2147400436\n",
       "237397    2147400436\n",
       "237214    2147400540\n",
       "237211    2147400540\n",
       "Name: address, Length: 1000001, dtype: int64"
      ]
     },
     "execution_count": 7,
     "metadata": {},
     "output_type": "execute_result"
    }
   ],
   "source": [
    "minimum=sorted_columns['address'].min()\n",
    "maximum=sorted_columns['address'].max()\n",
    "address=sorted_columns['address']\n",
    "address"
   ]
  },
  {
   "cell_type": "code",
   "execution_count": 8,
   "id": "4740f203",
   "metadata": {},
   "outputs": [
    {
     "data": {
      "text/plain": [
       "(4195404.0, 2147400540.0)"
      ]
     },
     "execution_count": 8,
     "metadata": {},
     "output_type": "execute_result"
    },
    {
     "data": {
      "image/png": "[encoded data removed]",
      "text/plain": [
       "<Figure size 640x480 with 1 Axes>"
      ]
     },
     "metadata": {},
     "output_type": "display_data"
    }
   ],
   "source": [
    "\n",
    "plt.hist(address, bins=6, edgecolor='black')\n",
    "plt.xlabel(\"address in decimals\")\n",
    "plt.ylabel(\"occurrences\")\n",
    "plt.title('Histogram of address distribution of spice')\n",
    "plt.xlim(minimum,maximum)"
   ]
  }
 ],
 "metadata": {
  "kernelspec": {
   "display_name": "Python 3 (ipykernel)",
   "language": "python",
   "name": "python3"
  },
  "language_info": {
   "codemirror_mode": {
    "name": "ipython",
    "version": 3
   },
   "file_extension": ".py",
   "mimetype": "text/x-python",
   "name": "python",
   "nbconvert_exporter": "python",
   "pygments_lexer": "ipython3",
   "version": "3.9.2"
  },
  "vscode": {
   "interpreter": {
    "hash": "c86c0f610493fb95d0286b04ed4da8d51b857b23af2f87c79589eab3d5da5a17"
   }
  }
 },
 "nbformat": 4,
 "nbformat_minor": 5
}
