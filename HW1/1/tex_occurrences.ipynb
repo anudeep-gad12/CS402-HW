{
 "cells": [
  {
   "cell_type": "code",
   "execution_count": 9,
   "metadata": {},
   "outputs": [],
   "source": [
    "import pandas as pd\n",
    "from matplotlib import pyplot as plt\n",
    "\n",
    "df= pd.read_fwf('tex.din.txt')"
   ]
  },
  {
   "cell_type": "code",
   "execution_count": 10,
   "metadata": {},
   "outputs": [
    {
     "data": {
      "text/plain": [
       "Index(['type_address'], dtype='object')"
      ]
     },
     "execution_count": 10,
     "metadata": {},
     "output_type": "execute_result"
    }
   ],
   "source": [
    "df.columns\n"
   ]
  },
  {
   "cell_type": "code",
   "execution_count": 11,
   "metadata": {},
   "outputs": [],
   "source": [
    "split_columns=df['type_address'].str.split(\" \",n=1,expand=True)\n",
    "split_columns=split_columns.rename(columns={0:'type',1:'address'})"
   ]
  },
  {
   "cell_type": "code",
   "execution_count": 12,
   "metadata": {},
   "outputs": [],
   "source": [
    "split_columns['address']=split_columns['address'].apply(int,base=16)"
   ]
  },
  {
   "cell_type": "code",
   "execution_count": 13,
   "metadata": {},
   "outputs": [
    {
     "data": {
      "text/html": [
       "<div>\n",
       "<style scoped>\n",
       "    .dataframe tbody tr th:only-of-type {\n",
       "        vertical-align: middle;\n",
       "    }\n",
       "\n",
       "    .dataframe tbody tr th {\n",
       "        vertical-align: top;\n",
       "    }\n",
       "\n",
       "    .dataframe thead th {\n",
       "        text-align: right;\n",
       "    }\n",
       "</style>\n",
       "<table border=\"1\" class=\"dataframe\">\n",
       "  <thead>\n",
       "    <tr style=\"text-align: right;\">\n",
       "      <th></th>\n",
       "      <th>type</th>\n",
       "      <th>address</th>\n",
       "    </tr>\n",
       "  </thead>\n",
       "  <tbody>\n",
       "    <tr>\n",
       "      <th>0</th>\n",
       "      <td>2</td>\n",
       "      <td>4394352</td>\n",
       "    </tr>\n",
       "    <tr>\n",
       "      <th>1</th>\n",
       "      <td>2</td>\n",
       "      <td>4394356</td>\n",
       "    </tr>\n",
       "    <tr>\n",
       "      <th>2</th>\n",
       "      <td>2</td>\n",
       "      <td>4280624</td>\n",
       "    </tr>\n",
       "    <tr>\n",
       "      <th>3</th>\n",
       "      <td>0</td>\n",
       "      <td>268479660</td>\n",
       "    </tr>\n",
       "    <tr>\n",
       "      <th>4</th>\n",
       "      <td>2</td>\n",
       "      <td>4280628</td>\n",
       "    </tr>\n",
       "    <tr>\n",
       "      <th>...</th>\n",
       "      <td>...</td>\n",
       "      <td>...</td>\n",
       "    </tr>\n",
       "    <tr>\n",
       "      <th>832472</th>\n",
       "      <td>2</td>\n",
       "      <td>4394212</td>\n",
       "    </tr>\n",
       "    <tr>\n",
       "      <th>832473</th>\n",
       "      <td>2</td>\n",
       "      <td>4400928</td>\n",
       "    </tr>\n",
       "    <tr>\n",
       "      <th>832474</th>\n",
       "      <td>2</td>\n",
       "      <td>4400932</td>\n",
       "    </tr>\n",
       "    <tr>\n",
       "      <th>832475</th>\n",
       "      <td>2</td>\n",
       "      <td>4400936</td>\n",
       "    </tr>\n",
       "    <tr>\n",
       "      <th>832476</th>\n",
       "      <td>2</td>\n",
       "      <td>17192</td>\n",
       "    </tr>\n",
       "  </tbody>\n",
       "</table>\n",
       "<p>832477 rows × 2 columns</p>\n",
       "</div>"
      ],
      "text/plain": [
       "       type    address\n",
       "0         2    4394352\n",
       "1         2    4394356\n",
       "2         2    4280624\n",
       "3         0  268479660\n",
       "4         2    4280628\n",
       "...     ...        ...\n",
       "832472    2    4394212\n",
       "832473    2    4400928\n",
       "832474    2    4400932\n",
       "832475    2    4400936\n",
       "832476    2      17192\n",
       "\n",
       "[832477 rows x 2 columns]"
      ]
     },
     "execution_count": 13,
     "metadata": {},
     "output_type": "execute_result"
    }
   ],
   "source": [
    "split_columns"
   ]
  },
  {
   "cell_type": "code",
   "execution_count": 14,
   "metadata": {},
   "outputs": [
    {
     "data": {
      "text/html": [
       "<div>\n",
       "<style scoped>\n",
       "    .dataframe tbody tr th:only-of-type {\n",
       "        vertical-align: middle;\n",
       "    }\n",
       "\n",
       "    .dataframe tbody tr th {\n",
       "        vertical-align: top;\n",
       "    }\n",
       "\n",
       "    .dataframe thead th {\n",
       "        text-align: right;\n",
       "    }\n",
       "</style>\n",
       "<table border=\"1\" class=\"dataframe\">\n",
       "  <thead>\n",
       "    <tr style=\"text-align: right;\">\n",
       "      <th></th>\n",
       "      <th>type</th>\n",
       "      <th>address</th>\n",
       "    </tr>\n",
       "  </thead>\n",
       "  <tbody>\n",
       "    <tr>\n",
       "      <th>832476</th>\n",
       "      <td>2</td>\n",
       "      <td>17192</td>\n",
       "    </tr>\n",
       "    <tr>\n",
       "      <th>147966</th>\n",
       "      <td>2</td>\n",
       "      <td>4280604</td>\n",
       "    </tr>\n",
       "    <tr>\n",
       "      <th>671023</th>\n",
       "      <td>2</td>\n",
       "      <td>4280604</td>\n",
       "    </tr>\n",
       "    <tr>\n",
       "      <th>671246</th>\n",
       "      <td>2</td>\n",
       "      <td>4280604</td>\n",
       "    </tr>\n",
       "    <tr>\n",
       "      <th>147743</th>\n",
       "      <td>2</td>\n",
       "      <td>4280604</td>\n",
       "    </tr>\n",
       "    <tr>\n",
       "      <th>...</th>\n",
       "      <td>...</td>\n",
       "      <td>...</td>\n",
       "    </tr>\n",
       "    <tr>\n",
       "      <th>520134</th>\n",
       "      <td>0</td>\n",
       "      <td>2147418292</td>\n",
       "    </tr>\n",
       "    <tr>\n",
       "      <th>726577</th>\n",
       "      <td>1</td>\n",
       "      <td>2147418292</td>\n",
       "    </tr>\n",
       "    <tr>\n",
       "      <th>153738</th>\n",
       "      <td>0</td>\n",
       "      <td>2147418292</td>\n",
       "    </tr>\n",
       "    <tr>\n",
       "      <th>399599</th>\n",
       "      <td>0</td>\n",
       "      <td>2147418292</td>\n",
       "    </tr>\n",
       "    <tr>\n",
       "      <th>765995</th>\n",
       "      <td>0</td>\n",
       "      <td>2147418292</td>\n",
       "    </tr>\n",
       "  </tbody>\n",
       "</table>\n",
       "<p>832477 rows × 2 columns</p>\n",
       "</div>"
      ],
      "text/plain": [
       "       type     address\n",
       "832476    2       17192\n",
       "147966    2     4280604\n",
       "671023    2     4280604\n",
       "671246    2     4280604\n",
       "147743    2     4280604\n",
       "...     ...         ...\n",
       "520134    0  2147418292\n",
       "726577    1  2147418292\n",
       "153738    0  2147418292\n",
       "399599    0  2147418292\n",
       "765995    0  2147418292\n",
       "\n",
       "[832477 rows x 2 columns]"
      ]
     },
     "execution_count": 14,
     "metadata": {},
     "output_type": "execute_result"
    }
   ],
   "source": [
    "sorted_columns=split_columns.sort_values('address',ascending=True)\n",
    "sorted_columns"
   ]
  },
  {
   "cell_type": "code",
   "execution_count": 15,
   "metadata": {},
   "outputs": [
    {
     "data": {
      "text/plain": [
       "832476         17192\n",
       "147966       4280604\n",
       "671023       4280604\n",
       "671246       4280604\n",
       "147743       4280604\n",
       "             ...    \n",
       "520134    2147418292\n",
       "726577    2147418292\n",
       "153738    2147418292\n",
       "399599    2147418292\n",
       "765995    2147418292\n",
       "Name: address, Length: 832477, dtype: int64"
      ]
     },
     "execution_count": 15,
     "metadata": {},
     "output_type": "execute_result"
    }
   ],
   "source": [
    "minimum=sorted_columns['address'].min()\n",
    "maximum=sorted_columns['address'].max()\n",
    "address=sorted_columns['address']\n",
    "address"
   ]
  },
  {
   "cell_type": "code",
   "execution_count": 16,
   "metadata": {},
   "outputs": [
    {
     "data": {
      "text/plain": [
       "(17192.0, 2147418292.0)"
      ]
     },
     "execution_count": 16,
     "metadata": {},
     "output_type": "execute_result"
    },
    {
     "data": {
      "image/png": "[encoded data removed]",
      "text/plain": [
       "<Figure size 640x480 with 1 Axes>"
      ]
     },
     "metadata": {},
     "output_type": "display_data"
    }
   ],
   "source": [
    "\n",
    "plt.hist(address, bins=6, edgecolor='black')\n",
    "plt.xlabel(\"address in decimals\")\n",
    "plt.ylabel(\"occurrences\")\n",
    "plt.title('Histogram of address distribution of spice')\n",
    "plt.xlim(minimum,maximum)"
   ]
  }
 ],
 "metadata": {
  "kernelspec": {
   "display_name": "Python 3.9.2 64-bit",
   "language": "python",
   "name": "python3"
  },
  "language_info": {
   "codemirror_mode": {
    "name": "ipython",
    "version": 3
   },
   "file_extension": ".py",
   "mimetype": "text/x-python",
   "name": "python",
   "nbconvert_exporter": "python",
   "pygments_lexer": "ipython3",
   "version": "3.9.2"
  },
  "orig_nbformat": 4,
  "vscode": {
   "interpreter": {
    "hash": "c86c0f610493fb95d0286b04ed4da8d51b857b23af2f87c79589eab3d5da5a17"
   }
  }
 },
 "nbformat": 4,
 "nbformat_minor": 2
}
